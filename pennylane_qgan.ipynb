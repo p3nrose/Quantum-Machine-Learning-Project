{
 "cells": [
  {
   "cell_type": "markdown",
   "source": [
    "# Module Imports"
   ],
   "metadata": {
    "collapsed": false
   },
   "id": "e29af6a09d4b39b1"
  },
  {
   "cell_type": "code",
   "execution_count": 28,
   "id": "initial_id",
   "metadata": {
    "collapsed": true,
    "ExecuteTime": {
     "end_time": "2024-01-01T14:51:34.761282100Z",
     "start_time": "2024-01-01T14:51:34.745659500Z"
    }
   },
   "outputs": [],
   "source": [
    "# Library imports\n",
    "import math\n",
    "import random\n",
    "import numpy as np\n",
    "import pandas as pd\n",
    "import matplotlib.pyplot as plt\n",
    "import matplotlib.gridspec as gridspec\n",
    "import pennylane as qml\n",
    "\n",
    "# Pytorch imports\n",
    "import torch\n",
    "import torch.nn as nn\n",
    "import torch.optim as optim\n",
    "import torchvision\n",
    "import torchvision.transforms as transforms\n",
    "from torch.utils.data import Dataset, DataLoader\n",
    "\n",
    "# Set the random seed for reproducibility\n",
    "seed = 42\n",
    "torch.manual_seed(seed)\n",
    "np.random.seed(seed)\n",
    "random.seed(seed)"
   ]
  },
  {
   "cell_type": "markdown",
   "source": [
    "# Data\n",
    "Small dataset of handwritten zeros: [Optical Recognition of Handwritten Digits](https://archive.ics.uci.edu/dataset/80/optical+recognition+of+handwritten+digits)\n",
    "\n",
    "First, we need to create a custom dataloader for this dataset."
   ],
   "metadata": {
    "collapsed": false
   },
   "id": "3713c674e395aea6"
  },
  {
   "cell_type": "code",
   "execution_count": 29,
   "outputs": [],
   "source": [
    "class DigitsDataset(Dataset):\n",
    "    \"\"\"Pytorch dataloader for the Optical Recognition of Handwritten Digits Data Set\"\"\"\n",
    "\n",
    "    def __init__(self, csv_file, label=0, transform=None):\n",
    "        \"\"\"\n",
    "        Args:\n",
    "            csv_file (string): Path to the csv file with annotations.\n",
    "            root_dir (string): Directory with all the images.\n",
    "            transform (callable, optional): Optional transform to be applied\n",
    "                on a sample.\n",
    "        \"\"\"\n",
    "        self.csv_file = csv_file\n",
    "        self.transform = transform\n",
    "        self.df = self.filter_by_label(label)\n",
    "\n",
    "    def filter_by_label(self, label):\n",
    "        # Use pandas to return a dataframe of only zeros\n",
    "        df = pd.read_csv(self.csv_file)\n",
    "        df = df.loc[df.iloc[:, -1] == label]\n",
    "        return df\n",
    "\n",
    "    def __len__(self):\n",
    "        return len(self.df)\n",
    "\n",
    "    def __getitem__(self, idx):\n",
    "        if torch.is_tensor(idx):\n",
    "            idx = idx.tolist()\n",
    "\n",
    "        image = self.df.iloc[idx, :-1] / 16\n",
    "        image = np.array(image)\n",
    "        image = image.astype(np.float32).reshape(8, 8)\n",
    "\n",
    "        if self.transform:\n",
    "            image = self.transform(image)\n",
    "\n",
    "        # Return image and label\n",
    "        return image, 0"
   ],
   "metadata": {
    "collapsed": false,
    "ExecuteTime": {
     "end_time": "2024-01-01T14:51:37.640868900Z",
     "start_time": "2024-01-01T14:51:37.622238900Z"
    }
   },
   "id": "f38d1ac43f11793"
  },
  {
   "cell_type": "markdown",
   "source": [
    "Create Dataloader Instance"
   ],
   "metadata": {
    "collapsed": false
   },
   "id": "1ba70c7173142d1e"
  },
  {
   "cell_type": "code",
   "execution_count": 31,
   "outputs": [],
   "source": [
    "image_size = 8    # Height / width of the square images\n",
    "batch_size = 1\n",
    "\n",
    "transform = transforms.Compose([transforms.ToTensor()])\n",
    "csv_file_path = \"optical+recognition+of+handwritten+digits/optdigits.tra\"\n",
    "dataset = DigitsDataset(csv_file=csv_file_path, transform=transform)\n",
    "dataloader = torch.utils.data.DataLoader(\n",
    "    dataset, batch_size=batch_size, shuffle=True, drop_last=True\n",
    ")"
   ],
   "metadata": {
    "collapsed": false,
    "ExecuteTime": {
     "end_time": "2024-01-01T14:52:46.083820300Z",
     "start_time": "2024-01-01T14:52:46.040921500Z"
    }
   },
   "id": "6db39bbead5854a4"
  },
  {
   "cell_type": "markdown",
   "source": [
    "Visualize some data"
   ],
   "metadata": {
    "collapsed": false
   },
   "id": "e9d4206d7f42a1c1"
  },
  {
   "cell_type": "code",
   "execution_count": 32,
   "outputs": [
    {
     "data": {
      "text/plain": "<Figure size 800x200 with 8 Axes>",
      "image/png": "[encoded data removed]"
     },
     "metadata": {},
     "output_type": "display_data"
    }
   ],
   "source": [
    "plt.figure(figsize=(8,2))\n",
    "\n",
    "for i in range(8):\n",
    "    image = dataset[i][0].reshape(image_size, image_size)\n",
    "    plt.subplot(1, 8, i+1)\n",
    "    plt.axis('off')\n",
    "    plt.imshow(image.numpy(), cmap='gray')\n",
    "    \n",
    "plt.show()"
   ],
   "metadata": {
    "collapsed": false,
    "ExecuteTime": {
     "end_time": "2024-01-01T14:52:53.302634800Z",
     "start_time": "2024-01-01T14:52:53.104268200Z"
    }
   },
   "id": "23e2c561db24ef54"
  },
  {
   "cell_type": "markdown",
   "source": [
    "# Implementing the Discriminator $D$\n",
    "For the discriminator we use a fully connected neural network with 2 hidden layers. A single output is sufficient to represent the probability of an input being classified as real\n",
    "\n",
    "Input 8x8 -> 64 -> 16 -> 1\n",
    "In Image -> Out probability of beeing a zero"
   ],
   "metadata": {
    "collapsed": false
   },
   "id": "373c4ad793cbdca7"
  },
  {
   "cell_type": "code",
   "execution_count": 33,
   "outputs": [],
   "source": [
    "class Discriminator(nn.Module):\n",
    "    \"\"\"Fully connected classical discriminator\"\"\"\n",
    "\n",
    "    def __init__(self):\n",
    "        super().__init__()\n",
    "\n",
    "        self.model = nn.Sequential(\n",
    "            # Inputs to first hidden layer (num_input_features -> 64)\n",
    "            nn.Linear(image_size * image_size, 64),\n",
    "            nn.ReLU(),\n",
    "            # First hidden layer (64 -> 16)\n",
    "            nn.Linear(64, 16),\n",
    "            nn.ReLU(),\n",
    "            # Second hidden layer (16 -> output)\n",
    "            nn.Linear(16, 1),\n",
    "            nn.Sigmoid(),\n",
    "        )\n",
    "\n",
    "    def forward(self, x):\n",
    "        return self.model(x)\n",
    "    "
   ],
   "metadata": {
    "collapsed": false,
    "ExecuteTime": {
     "end_time": "2024-01-01T14:53:12.098698700Z",
     "start_time": "2024-01-01T14:53:12.076402500Z"
    }
   },
   "id": "a820367fda4dde8a"
  },
  {
   "cell_type": "markdown",
   "source": [
    "# Implementing the Generator\n",
    "<div>\n",
    "<img src=\"qcircuit.jpeg\" alt=\"Quantum Circuit\" width=\"500\" />\n",
    "</div>"
   ],
   "metadata": {
    "collapsed": false
   },
   "id": "496bbaa0881d1e47"
  },
  {
   "cell_type": "code",
   "execution_count": 35,
   "outputs": [],
   "source": [
    "# Quantum variables\n",
    "n_qubits = 5    # Total number of qubits -> N\n",
    "n_a_qubits = 1    # Number of ancillary qubits -> N_A\n",
    "q_depth = 6    # Depth of the parameterised quantum circuit -> D\n",
    "n_generators = 4    # Number of subgenerators for the patch method -> N_G\n"
   ],
   "metadata": {
    "collapsed": false,
    "ExecuteTime": {
     "end_time": "2024-01-01T14:53:47.342679Z",
     "start_time": "2024-01-01T14:53:47.322041700Z"
    }
   },
   "id": "430b61f1df516bf1"
  },
  {
   "cell_type": "code",
   "execution_count": 34,
   "outputs": [
    {
     "name": "stderr",
     "output_type": "stream",
     "text": [
      "C:\\dev\\quantum-project\\venv\\lib\\site-packages\\pennylane_lightning\\lightning_qubit\\lightning_qubit.py:824: UserWarning: Pre-compiled binaries for lightning.qubit are not available. Falling back to using the Python-based default.qubit implementation. To manually compile from source, follow the instructions at https://pennylane-lightning.readthedocs.io/en/latest/installation.html.\n",
      "  warn(\n"
     ]
    }
   ],
   "source": [
    "# Quantum simulator\n",
    "dev = qml.device(\"lightning.qubit\", wires=n_qubits)\n",
    "# Enable CUDA device if available\n",
    "device = torch.device(\"cuda:0\" if torch.cuda.is_available() else \"cpu\")"
   ],
   "metadata": {
    "collapsed": false,
    "ExecuteTime": {
     "end_time": "2024-01-01T14:53:45.538441100Z",
     "start_time": "2024-01-01T14:53:45.500773900Z"
    }
   },
   "id": "f4afb8fa18dd90fc"
  },
  {
   "cell_type": "code",
   "execution_count": 36,
   "outputs": [],
   "source": [
    "@qml.qnode(dev, diff_method=\"parameter-shift\")\n",
    "def quantum_circuit(noise, weights):\n",
    "\n",
    "    weights = weights.reshape(q_depth, n_qubits)\n",
    "\n",
    "    # Initialise latent vectors\n",
    "    for i in range(n_qubits):\n",
    "        qml.RY(noise[i], wires=i)\n",
    "\n",
    "    # Repeated layer\n",
    "    for i in range(q_depth):\n",
    "        # Parameterised layer\n",
    "        for y in range(n_qubits):\n",
    "            qml.RY(weights[i][y], wires=y)\n",
    "\n",
    "        # Control Z gates\n",
    "        for y in range(n_qubits - 1):\n",
    "            qml.CZ(wires=[y, y + 1])\n",
    "\n",
    "    return qml.probs(wires=list(range(n_qubits)))\n",
    "\n",
    "\n",
    "# For further info on how the non-linear transform is implemented in Pennylane\n",
    "# https://discuss.pennylane.ai/t/ancillary-subsystem-measurement-then-trace-out/1532\n",
    "def partial_measure(noise, weights):\n",
    "    # Non-linear Transform\n",
    "    probs = quantum_circuit(noise, weights)\n",
    "    probsgiven0 = probs[: (2 ** (n_qubits - n_a_qubits))]\n",
    "    probsgiven0 /= torch.sum(probs)\n",
    "\n",
    "    # Post-Processing\n",
    "    probsgiven = probsgiven0 / torch.max(probsgiven0)\n",
    "    return probsgiven"
   ],
   "metadata": {
    "collapsed": false,
    "ExecuteTime": {
     "end_time": "2024-01-01T14:54:10.060412800Z",
     "start_time": "2024-01-01T14:54:10.022612500Z"
    }
   },
   "id": "7f13166319e96dd8"
  },
  {
   "cell_type": "markdown",
   "source": [
    "## Quantum Generator"
   ],
   "metadata": {
    "collapsed": false
   },
   "id": "f8e7f68208016ffe"
  },
  {
   "cell_type": "code",
   "execution_count": 37,
   "outputs": [],
   "source": [
    "class PatchQuantumGenerator(nn.Module):\n",
    "    \"\"\"Quantum generator class for the patch method\"\"\"\n",
    "\n",
    "    def __init__(self, n_generators, q_delta=1):\n",
    "        \"\"\"\n",
    "        Args:\n",
    "            n_generators (int): Number of sub-generators to be used in the patch method.\n",
    "            q_delta (float, optional): Spread of the random distribution for parameter initialisation.\n",
    "        \"\"\"\n",
    "\n",
    "        super().__init__()\n",
    "\n",
    "        self.q_params = nn.ParameterList(\n",
    "            [\n",
    "                nn.Parameter(q_delta * torch.rand(q_depth * n_qubits), requires_grad=True)\n",
    "                for _ in range(n_generators)\n",
    "            ]\n",
    "        )\n",
    "        self.n_generators = n_generators\n",
    "\n",
    "    def forward(self, x):\n",
    "        # Size of each sub-generator output\n",
    "        patch_size = 2 ** (n_qubits - n_a_qubits)\n",
    "\n",
    "        # Create a Tensor to 'catch' a batch of images from the for loop. x.size(0) is the batch size.\n",
    "        images = torch.Tensor(x.size(0), 0).to(device)\n",
    "\n",
    "        # Iterate over all sub-generators\n",
    "        for params in self.q_params:\n",
    "\n",
    "            # Create a Tensor to 'catch' a batch of the patches from a single sub-generator\n",
    "            patches = torch.Tensor(0, patch_size).to(device)\n",
    "            for elem in x:\n",
    "                q_out = partial_measure(elem, params).float().unsqueeze(0)\n",
    "                patches = torch.cat((patches, q_out))\n",
    "\n",
    "            # Each batch of patches is concatenated with each other to create a batch of images\n",
    "            images = torch.cat((images, patches), 1)\n",
    "\n",
    "        return images"
   ],
   "metadata": {
    "collapsed": false,
    "ExecuteTime": {
     "end_time": "2024-01-01T14:54:23.030668300Z",
     "start_time": "2024-01-01T14:54:23.015034400Z"
    }
   },
   "id": "f57e12bcbd34ecb8"
  },
  {
   "cell_type": "markdown",
   "source": [
    "# Training"
   ],
   "metadata": {
    "collapsed": false
   },
   "id": "a34ee586f691c5b2"
  },
  {
   "cell_type": "code",
   "execution_count": 38,
   "outputs": [],
   "source": [
    "lrG = 0.3  # Learning rate for the generator\n",
    "lrD = 0.01  # Learning rate for the discriminator\n",
    "num_iter = 500  # Number of training iterations"
   ],
   "metadata": {
    "collapsed": false,
    "ExecuteTime": {
     "end_time": "2024-01-01T14:54:31.656062400Z",
     "start_time": "2024-01-01T14:54:31.640382Z"
    }
   },
   "id": "4b51ea1b338702dc"
  },
  {
   "cell_type": "code",
   "execution_count": 39,
   "outputs": [
    {
     "name": "stdout",
     "output_type": "stream",
     "text": [
      "Iteration: 10, Discriminator Loss: 1.356, Generator Loss: 0.597\n",
      "Iteration: 20, Discriminator Loss: 1.325, Generator Loss: 0.621\n",
      "Iteration: 30, Discriminator Loss: 1.333, Generator Loss: 0.615\n",
      "Iteration: 40, Discriminator Loss: 1.304, Generator Loss: 0.633\n",
      "Iteration: 50, Discriminator Loss: 1.275, Generator Loss: 0.648\n",
      "Iteration: 60, Discriminator Loss: 1.222, Generator Loss: 0.670\n",
      "Iteration: 70, Discriminator Loss: 1.267, Generator Loss: 0.627\n",
      "Iteration: 80, Discriminator Loss: 1.253, Generator Loss: 0.647\n",
      "Iteration: 90, Discriminator Loss: 1.256, Generator Loss: 0.624\n",
      "Iteration: 100, Discriminator Loss: 1.249, Generator Loss: 0.627\n",
      "Iteration: 110, Discriminator Loss: 1.177, Generator Loss: 0.660\n",
      "Iteration: 120, Discriminator Loss: 1.175, Generator Loss: 0.633\n",
      "Iteration: 130, Discriminator Loss: 1.210, Generator Loss: 0.664\n",
      "Iteration: 140, Discriminator Loss: 1.231, Generator Loss: 0.605\n",
      "Iteration: 150, Discriminator Loss: 1.252, Generator Loss: 0.606\n",
      "Iteration: 160, Discriminator Loss: 1.338, Generator Loss: 0.552\n",
      "Iteration: 170, Discriminator Loss: 1.258, Generator Loss: 0.594\n",
      "Iteration: 180, Discriminator Loss: 1.235, Generator Loss: 0.611\n",
      "Iteration: 190, Discriminator Loss: 1.281, Generator Loss: 0.605\n",
      "Iteration: 200, Discriminator Loss: 1.199, Generator Loss: 0.704\n",
      "Iteration: 210, Discriminator Loss: 1.233, Generator Loss: 0.649\n",
      "Iteration: 220, Discriminator Loss: 1.292, Generator Loss: 0.680\n",
      "Iteration: 230, Discriminator Loss: 1.265, Generator Loss: 0.623\n",
      "Iteration: 240, Discriminator Loss: 1.081, Generator Loss: 0.749\n",
      "Iteration: 250, Discriminator Loss: 1.130, Generator Loss: 0.698\n",
      "Iteration: 260, Discriminator Loss: 1.235, Generator Loss: 0.628\n",
      "Iteration: 270, Discriminator Loss: 1.060, Generator Loss: 0.755\n",
      "Iteration: 280, Discriminator Loss: 1.193, Generator Loss: 0.660\n",
      "Iteration: 290, Discriminator Loss: 1.121, Generator Loss: 0.783\n",
      "Iteration: 300, Discriminator Loss: 1.129, Generator Loss: 0.787\n",
      "Iteration: 310, Discriminator Loss: 1.180, Generator Loss: 0.702\n",
      "Iteration: 320, Discriminator Loss: 1.125, Generator Loss: 0.778\n",
      "Iteration: 330, Discriminator Loss: 1.139, Generator Loss: 0.748\n",
      "Iteration: 340, Discriminator Loss: 1.037, Generator Loss: 0.793\n",
      "Iteration: 350, Discriminator Loss: 1.150, Generator Loss: 0.686\n",
      "Iteration: 360, Discriminator Loss: 0.991, Generator Loss: 0.809\n",
      "Iteration: 370, Discriminator Loss: 1.070, Generator Loss: 0.803\n",
      "Iteration: 380, Discriminator Loss: 1.065, Generator Loss: 0.859\n",
      "Iteration: 390, Discriminator Loss: 0.913, Generator Loss: 0.910\n",
      "Iteration: 400, Discriminator Loss: 1.070, Generator Loss: 0.746\n",
      "Iteration: 410, Discriminator Loss: 1.099, Generator Loss: 0.804\n",
      "Iteration: 420, Discriminator Loss: 1.185, Generator Loss: 0.793\n",
      "Iteration: 430, Discriminator Loss: 0.948, Generator Loss: 0.874\n",
      "Iteration: 440, Discriminator Loss: 1.130, Generator Loss: 0.690\n",
      "Iteration: 450, Discriminator Loss: 0.730, Generator Loss: 1.238\n",
      "Iteration: 460, Discriminator Loss: 0.827, Generator Loss: 1.143\n",
      "Iteration: 470, Discriminator Loss: 0.866, Generator Loss: 1.047\n",
      "Iteration: 480, Discriminator Loss: 1.000, Generator Loss: 0.951\n",
      "Iteration: 490, Discriminator Loss: 0.723, Generator Loss: 1.070\n",
      "Iteration: 500, Discriminator Loss: 1.119, Generator Loss: 0.742\n"
     ]
    }
   ],
   "source": [
    "discriminator = Discriminator().to(device)\n",
    "generator = PatchQuantumGenerator(n_generators).to(device)\n",
    "\n",
    "# Binary cross entropy\n",
    "criterion = nn.BCELoss()\n",
    "\n",
    "# Optimisers\n",
    "optD = optim.SGD(discriminator.parameters(), lr=lrD)\n",
    "optG = optim.SGD(generator.parameters(), lr=lrG)\n",
    "\n",
    "real_labels = torch.full((batch_size,), 1.0, dtype=torch.float, device=device)\n",
    "fake_labels = torch.full((batch_size,), 0.0, dtype=torch.float, device=device)\n",
    "\n",
    "# Fixed noise allows us to visually track the generated images throughout training\n",
    "fixed_noise = torch.rand(8, n_qubits, device=device) * math.pi / 2\n",
    "\n",
    "# Iteration counter\n",
    "counter = 0\n",
    "\n",
    "# Collect images for plotting later\n",
    "results = []\n",
    "\n",
    "while True:\n",
    "    for i, (data, _) in enumerate(dataloader):\n",
    "\n",
    "        # Data for training the discriminator\n",
    "        data = data.reshape(-1, image_size * image_size)\n",
    "        real_data = data.to(device)\n",
    "\n",
    "        # Noise follwing a uniform distribution in range [0,pi/2)\n",
    "        noise = torch.rand(batch_size, n_qubits, device=device) * math.pi / 2\n",
    "        fake_data = generator(noise)\n",
    "\n",
    "        # Training the discriminator\n",
    "        discriminator.zero_grad()\n",
    "        outD_real = discriminator(real_data).view(-1)\n",
    "        outD_fake = discriminator(fake_data.detach()).view(-1)\n",
    "\n",
    "        errD_real = criterion(outD_real, real_labels)\n",
    "        errD_fake = criterion(outD_fake, fake_labels)\n",
    "        # Propagate gradients\n",
    "        errD_real.backward()\n",
    "        errD_fake.backward()\n",
    "\n",
    "        errD = errD_real + errD_fake\n",
    "        optD.step()\n",
    "\n",
    "        # Training the generator\n",
    "        generator.zero_grad()\n",
    "        outD_fake = discriminator(fake_data).view(-1)\n",
    "        errG = criterion(outD_fake, real_labels)\n",
    "        errG.backward()\n",
    "        optG.step()\n",
    "\n",
    "        counter += 1\n",
    "\n",
    "        # Show loss values\n",
    "        if counter % 10 == 0:\n",
    "            print(f'Iteration: {counter}, Discriminator Loss: {errD:0.3f}, Generator Loss: {errG:0.3f}')\n",
    "            test_images = generator(fixed_noise).view(8,1,image_size,image_size).cpu().detach()\n",
    "\n",
    "            # Save images every 50 iterations\n",
    "            if counter % 50 == 0:\n",
    "                results.append(test_images)\n",
    "\n",
    "        if counter == num_iter:\n",
    "            break\n",
    "    if counter == num_iter:\n",
    "        break"
   ],
   "metadata": {
    "collapsed": false,
    "ExecuteTime": {
     "end_time": "2024-01-01T15:15:08.212501900Z",
     "start_time": "2024-01-01T14:54:41.664528100Z"
    }
   },
   "id": "a329089f9ab0dc01"
  },
  {
   "cell_type": "code",
   "execution_count": 40,
   "outputs": [
    {
     "data": {
      "text/plain": "<Figure size 1000x500 with 80 Axes>",
      "image/png": "[encoded data removed]"
     },
     "metadata": {},
     "output_type": "display_data"
    }
   ],
   "source": [
    "fig = plt.figure(figsize=(10, 5))\n",
    "outer = gridspec.GridSpec(5, 2, wspace=0.1)\n",
    "\n",
    "for i, images in enumerate(results):\n",
    "    inner = gridspec.GridSpecFromSubplotSpec(1, images.size(0),\n",
    "                    subplot_spec=outer[i])\n",
    "\n",
    "    images = torch.squeeze(images, dim=1)\n",
    "    for j, im in enumerate(images):\n",
    "\n",
    "        ax = plt.Subplot(fig, inner[j])\n",
    "        ax.imshow(im.numpy(), cmap=\"gray\")\n",
    "        ax.set_xticks([])\n",
    "        ax.set_yticks([])\n",
    "        if j==0:\n",
    "            ax.set_title(f'Iteration {50+i*50}', loc='left')\n",
    "        fig.add_subplot(ax)\n",
    "\n",
    "plt.show()"
   ],
   "metadata": {
    "collapsed": false,
    "ExecuteTime": {
     "end_time": "2024-01-01T15:18:28.157559Z",
     "start_time": "2024-01-01T15:18:25.146267Z"
    }
   },
   "id": "7a9cdf79510ef576"
  }
 ],
 "metadata": {
  "kernelspec": {
   "display_name": "Python 3",
   "language": "python",
   "name": "python3"
  },
  "language_info": {
   "codemirror_mode": {
    "name": "ipython",
    "version": 2
   },
   "file_extension": ".py",
   "mimetype": "text/x-python",
   "name": "python",
   "nbconvert_exporter": "python",
   "pygments_lexer": "ipython2",
   "version": "2.7.6"
  }
 },
 "nbformat": 4,
 "nbformat_minor": 5
}
