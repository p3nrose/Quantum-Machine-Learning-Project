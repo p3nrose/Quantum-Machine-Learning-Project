{
 "cells": [
  {
   "cell_type": "markdown",
   "source": [
    "# Module Imports"
   ],
   "metadata": {
    "collapsed": false
   },
   "id": "e29af6a09d4b39b1"
  },
  {
   "cell_type": "code",
   "execution_count": 1,
   "id": "initial_id",
   "metadata": {
    "collapsed": true,
    "ExecuteTime": {
     "end_time": "2024-01-01T20:16:33.911178600Z",
     "start_time": "2024-01-01T20:16:28.442305300Z"
    }
   },
   "outputs": [],
   "source": [
    "# Library imports\n",
    "import math\n",
    "import random\n",
    "import numpy as np\n",
    "import pandas as pd\n",
    "import matplotlib.pyplot as plt\n",
    "import matplotlib.gridspec as gridspec\n",
    "import pennylane as qml\n",
    "\n",
    "# Pytorch imports\n",
    "import torch\n",
    "import torch.nn as nn\n",
    "import torch.optim as optim\n",
    "import torchvision\n",
    "import torchvision.transforms as transforms\n",
    "from torch.utils.data import Dataset, DataLoader\n",
    "\n",
    "# Set the random seed for reproducibility\n",
    "seed = 42\n",
    "torch.manual_seed(seed)\n",
    "np.random.seed(seed)\n",
    "random.seed(seed)"
   ]
  },
  {
   "cell_type": "markdown",
   "source": [
    "# Data\n",
    "Small dataset of handwritten zeros: [Optical Recognition of Handwritten Digits](https://archive.ics.uci.edu/dataset/80/optical+recognition+of+handwritten+digits)\n",
    "\n",
    "First, we need to create a custom dataloader for this dataset."
   ],
   "metadata": {
    "collapsed": false
   },
   "id": "3713c674e395aea6"
  },
  {
   "cell_type": "code",
   "execution_count": 2,
   "outputs": [],
   "source": [
    "class DigitsDataset(Dataset):\n",
    "    \"\"\"Pytorch dataloader for the Optical Recognition of Handwritten Digits Data Set\"\"\"\n",
    "\n",
    "    def __init__(self, csv_file, label=0, transform=None):\n",
    "        \"\"\"\n",
    "        Args:\n",
    "            csv_file (string): Path to the csv file with annotations.\n",
    "            root_dir (string): Directory with all the images.\n",
    "            transform (callable, optional): Optional transform to be applied\n",
    "                on a sample.\n",
    "        \"\"\"\n",
    "        self.csv_file = csv_file\n",
    "        self.transform = transform\n",
    "        self.df = self.filter_by_label(label)\n",
    "\n",
    "    def filter_by_label(self, label):\n",
    "        # Use pandas to return a dataframe of only zeros\n",
    "        df = pd.read_csv(self.csv_file)\n",
    "        df = df.loc[df.iloc[:, -1] == label]\n",
    "        return df\n",
    "\n",
    "    def __len__(self):\n",
    "        return len(self.df)\n",
    "\n",
    "    def __getitem__(self, idx):\n",
    "        if torch.is_tensor(idx):\n",
    "            idx = idx.tolist()\n",
    "\n",
    "        image = self.df.iloc[idx, :-1] / 16\n",
    "        image = np.array(image)\n",
    "        image = image.astype(np.float32).reshape(8, 8)\n",
    "\n",
    "        if self.transform:\n",
    "            image = self.transform(image)\n",
    "\n",
    "        # Return image and label\n",
    "        return image, 0"
   ],
   "metadata": {
    "collapsed": false,
    "ExecuteTime": {
     "end_time": "2024-01-01T20:16:33.928167500Z",
     "start_time": "2024-01-01T20:16:33.919166300Z"
    }
   },
   "id": "f38d1ac43f11793"
  },
  {
   "cell_type": "markdown",
   "source": [
    "Create Dataloader Instance"
   ],
   "metadata": {
    "collapsed": false
   },
   "id": "1ba70c7173142d1e"
  },
  {
   "cell_type": "code",
   "execution_count": 3,
   "outputs": [],
   "source": [
    "image_size = 8    # Height / width of the square images\n",
    "batch_size = 1\n",
    "\n",
    "transform = transforms.Compose([transforms.ToTensor()])\n",
    "csv_file_path = \"optical+recognition+of+handwritten+digits/optdigits.tra\"\n",
    "dataset = DigitsDataset(csv_file=csv_file_path, transform=transform)\n",
    "dataloader = torch.utils.data.DataLoader(\n",
    "    dataset, batch_size=batch_size, shuffle=True, drop_last=True\n",
    ")"
   ],
   "metadata": {
    "collapsed": false,
    "ExecuteTime": {
     "end_time": "2024-01-01T20:16:33.973164600Z",
     "start_time": "2024-01-01T20:16:33.933167800Z"
    }
   },
   "id": "6db39bbead5854a4"
  },
  {
   "cell_type": "markdown",
   "source": [
    "Visualize some data"
   ],
   "metadata": {
    "collapsed": false
   },
   "id": "e9d4206d7f42a1c1"
  },
  {
   "cell_type": "code",
   "execution_count": 4,
   "outputs": [
    {
     "data": {
      "text/plain": "<Figure size 800x200 with 8 Axes>",
      "image/png": "[encoded data removed]"
     },
     "metadata": {},
     "output_type": "display_data"
    }
   ],
   "source": [
    "plt.figure(figsize=(8,2))\n",
    "\n",
    "for i in range(8):\n",
    "    image = dataset[i][0].reshape(image_size, image_size)\n",
    "    plt.subplot(1, 8, i+1)\n",
    "    plt.axis('off')\n",
    "    plt.imshow(image.numpy(), cmap='gray')\n",
    "    \n",
    "plt.show()"
   ],
   "metadata": {
    "collapsed": false,
    "ExecuteTime": {
     "end_time": "2024-01-01T20:16:34.204178800Z",
     "start_time": "2024-01-01T20:16:33.980165200Z"
    }
   },
   "id": "23e2c561db24ef54"
  },
  {
   "cell_type": "markdown",
   "source": [
    "# Implementing the Discriminator $D$\n",
    "For the discriminator we use a fully connected neural network with 2 hidden layers. A single output is sufficient to represent the probability of an input being classified as real\n",
    "\n",
    "Input 8x8 -> 64 -> 16 -> 1\n",
    "In Image -> Out probability of beeing a zero"
   ],
   "metadata": {
    "collapsed": false
   },
   "id": "373c4ad793cbdca7"
  },
  {
   "cell_type": "code",
   "execution_count": 5,
   "outputs": [],
   "source": [
    "class Discriminator(nn.Module):\n",
    "    \"\"\"Fully connected classical discriminator\"\"\"\n",
    "\n",
    "    def __init__(self):\n",
    "        super().__init__()\n",
    "\n",
    "        self.model = nn.Sequential(\n",
    "            # Inputs to first hidden layer (num_input_features -> 64)\n",
    "            nn.Linear(image_size * image_size, 64),\n",
    "            nn.ReLU(),\n",
    "            # First hidden layer (64 -> 16)\n",
    "            nn.Linear(64, 16),\n",
    "            nn.ReLU(),\n",
    "            # Second hidden layer (16 -> output)\n",
    "            nn.Linear(16, 1),\n",
    "            nn.Sigmoid(),\n",
    "        )\n",
    "\n",
    "    def forward(self, x):\n",
    "        return self.model(x)\n",
    "    "
   ],
   "metadata": {
    "collapsed": false,
    "ExecuteTime": {
     "end_time": "2024-01-01T20:16:34.239169500Z",
     "start_time": "2024-01-01T20:16:34.202167200Z"
    }
   },
   "id": "a820367fda4dde8a"
  },
  {
   "cell_type": "markdown",
   "source": [
    "# Implementing the Generator\n",
    "<div>\n",
    "<img src=\"qcircuit.jpeg\" alt=\"Quantum Circuit\" width=\"500\" />\n",
    "</div>"
   ],
   "metadata": {
    "collapsed": false
   },
   "id": "496bbaa0881d1e47"
  },
  {
   "cell_type": "code",
   "execution_count": 6,
   "outputs": [],
   "source": [
    "# Quantum variables\n",
    "n_qubits = 5    # Total number of qubits -> N\n",
    "n_a_qubits = 1    # Number of ancillary qubits -> N_A\n",
    "q_depth = 6    # Depth of the parameterised quantum circuit -> D\n",
    "n_generators = 4    # Number of subgenerators for the patch method -> N_G\n"
   ],
   "metadata": {
    "collapsed": false,
    "ExecuteTime": {
     "end_time": "2024-01-01T20:16:34.239169500Z",
     "start_time": "2024-01-01T20:16:34.220171800Z"
    }
   },
   "id": "430b61f1df516bf1"
  },
  {
   "cell_type": "code",
   "execution_count": 7,
   "outputs": [
    {
     "name": "stderr",
     "output_type": "stream",
     "text": [
      "C:\\dev\\quantum-project\\venv\\lib\\site-packages\\pennylane_lightning\\lightning_qubit\\lightning_qubit.py:824: UserWarning: Pre-compiled binaries for lightning.qubit are not available. Falling back to using the Python-based default.qubit implementation. To manually compile from source, follow the instructions at https://pennylane-lightning.readthedocs.io/en/latest/installation.html.\n",
      "  warn(\n"
     ]
    }
   ],
   "source": [
    "# Quantum simulator\n",
    "dev = qml.device(\"lightning.qubit\", wires=n_qubits)\n",
    "# Enable CUDA device if available\n",
    "device = torch.device(\"cuda:0\" if torch.cuda.is_available() else \"cpu\")\n",
    "\n",
    "\n",
    "# IBM quantum computer\n",
    "dev = qml.device(\"qiskit.ibmq\", wires=n_qubits)"
   ],
   "metadata": {
    "collapsed": false,
    "ExecuteTime": {
     "end_time": "2024-01-01T20:16:42.683687500Z",
     "start_time": "2024-01-01T20:16:34.233166500Z"
    }
   },
   "id": "f4afb8fa18dd90fc"
  },
  {
   "cell_type": "code",
   "execution_count": 8,
   "outputs": [],
   "source": [
    "@qml.qnode(dev, diff_method=\"parameter-shift\")\n",
    "def quantum_circuit(noise, weights):\n",
    "\n",
    "    weights = weights.reshape(q_depth, n_qubits)\n",
    "\n",
    "    # Initialise latent vectors\n",
    "    for i in range(n_qubits):\n",
    "        qml.RY(noise[i], wires=i)\n",
    "\n",
    "    # Repeated layer\n",
    "    for i in range(q_depth):\n",
    "        # Parameterised layer\n",
    "        for y in range(n_qubits):\n",
    "            qml.RY(weights[i][y], wires=y)\n",
    "\n",
    "        # Control Z gates\n",
    "        for y in range(n_qubits - 1):\n",
    "            qml.CZ(wires=[y, y + 1])\n",
    "\n",
    "    return qml.probs(wires=list(range(n_qubits)))\n",
    "\n",
    "\n",
    "# For further info on how the non-linear transform is implemented in Pennylane\n",
    "# https://discuss.pennylane.ai/t/ancillary-subsystem-measurement-then-trace-out/1532\n",
    "def partial_measure(noise, weights):\n",
    "    # Non-linear Transform\n",
    "    probs = quantum_circuit(noise, weights)\n",
    "    probsgiven0 = probs[: (2 ** (n_qubits - n_a_qubits))]\n",
    "    probsgiven0 /= torch.sum(probs)\n",
    "\n",
    "    # Post-Processing\n",
    "    probsgiven = probsgiven0 / torch.max(probsgiven0)\n",
    "    return probsgiven"
   ],
   "metadata": {
    "collapsed": false,
    "ExecuteTime": {
     "end_time": "2024-01-01T20:16:42.705844200Z",
     "start_time": "2024-01-01T20:16:42.689694600Z"
    }
   },
   "id": "7f13166319e96dd8"
  },
  {
   "cell_type": "markdown",
   "source": [
    "## Quantum Generator"
   ],
   "metadata": {
    "collapsed": false
   },
   "id": "f8e7f68208016ffe"
  },
  {
   "cell_type": "code",
   "execution_count": 9,
   "outputs": [],
   "source": [
    "class PatchQuantumGenerator(nn.Module):\n",
    "    \"\"\"Quantum generator class for the patch method\"\"\"\n",
    "\n",
    "    def __init__(self, n_generators, q_delta=1):\n",
    "        \"\"\"\n",
    "        Args:\n",
    "            n_generators (int): Number of sub-generators to be used in the patch method.\n",
    "            q_delta (float, optional): Spread of the random distribution for parameter initialisation.\n",
    "        \"\"\"\n",
    "\n",
    "        super().__init__()\n",
    "\n",
    "        self.q_params = nn.ParameterList(\n",
    "            [\n",
    "                nn.Parameter(q_delta * torch.rand(q_depth * n_qubits), requires_grad=True)\n",
    "                for _ in range(n_generators)\n",
    "            ]\n",
    "        )\n",
    "        self.n_generators = n_generators\n",
    "\n",
    "    def forward(self, x):\n",
    "        # Size of each sub-generator output\n",
    "        patch_size = 2 ** (n_qubits - n_a_qubits)\n",
    "\n",
    "        # Create a Tensor to 'catch' a batch of images from the for loop. x.size(0) is the batch size.\n",
    "        images = torch.Tensor(x.size(0), 0).to(device)\n",
    "\n",
    "        # Iterate over all sub-generators\n",
    "        for params in self.q_params:\n",
    "\n",
    "            # Create a Tensor to 'catch' a batch of the patches from a single sub-generator\n",
    "            patches = torch.Tensor(0, patch_size).to(device)\n",
    "            for elem in x:\n",
    "                q_out = partial_measure(elem, params).float().unsqueeze(0)\n",
    "                patches = torch.cat((patches, q_out))\n",
    "\n",
    "            # Each batch of patches is concatenated with each other to create a batch of images\n",
    "            images = torch.cat((images, patches), 1)\n",
    "\n",
    "        return images"
   ],
   "metadata": {
    "collapsed": false,
    "ExecuteTime": {
     "end_time": "2024-01-01T20:16:42.737289800Z",
     "start_time": "2024-01-01T20:16:42.705844200Z"
    }
   },
   "id": "f57e12bcbd34ecb8"
  },
  {
   "cell_type": "markdown",
   "source": [
    "# Training"
   ],
   "metadata": {
    "collapsed": false
   },
   "id": "a34ee586f691c5b2"
  },
  {
   "cell_type": "code",
   "execution_count": 10,
   "outputs": [],
   "source": [
    "lrG = 0.3  # Learning rate for the generator\n",
    "lrD = 0.01  # Learning rate for the discriminator\n",
    "num_iter = 500  # Number of training iterations"
   ],
   "metadata": {
    "collapsed": false,
    "ExecuteTime": {
     "end_time": "2024-01-01T20:16:42.768532600Z",
     "start_time": "2024-01-01T20:16:42.737289800Z"
    }
   },
   "id": "4b51ea1b338702dc"
  },
  {
   "cell_type": "code",
   "execution_count": 11,
   "outputs": [
    {
     "name": "stderr",
     "output_type": "stream",
     "text": [
      "C:\\dev\\quantum-project\\venv\\lib\\site-packages\\pennylane_qiskit\\ibmq.py:91: UserWarning: ibmqx_token is not a recognized runtime option and may be ignored by the backend.\n",
      "  res = super().batch_execute(circuits, timeout=self.timeout_secs)\n",
      "C:\\dev\\quantum-project\\venv\\lib\\site-packages\\pennylane_qiskit\\ibmq.py:91: UserWarning: hub is not a recognized runtime option and may be ignored by the backend.\n",
      "  res = super().batch_execute(circuits, timeout=self.timeout_secs)\n",
      "C:\\dev\\quantum-project\\venv\\lib\\site-packages\\pennylane_qiskit\\ibmq.py:91: UserWarning: group is not a recognized runtime option and may be ignored by the backend.\n",
      "  res = super().batch_execute(circuits, timeout=self.timeout_secs)\n",
      "C:\\dev\\quantum-project\\venv\\lib\\site-packages\\pennylane_qiskit\\ibmq.py:91: UserWarning: project is not a recognized runtime option and may be ignored by the backend.\n",
      "  res = super().batch_execute(circuits, timeout=self.timeout_secs)\n"
     ]
    },
    {
     "ename": "KeyboardInterrupt",
     "evalue": "",
     "output_type": "error",
     "traceback": [
      "\u001B[1;31m---------------------------------------------------------------------------\u001B[0m",
      "\u001B[1;31mKeyboardInterrupt\u001B[0m                         Traceback (most recent call last)",
      "Cell \u001B[1;32mIn[11], line 52\u001B[0m\n\u001B[0;32m     50\u001B[0m outD_fake \u001B[38;5;241m=\u001B[39m discriminator(fake_data)\u001B[38;5;241m.\u001B[39mview(\u001B[38;5;241m-\u001B[39m\u001B[38;5;241m1\u001B[39m)\n\u001B[0;32m     51\u001B[0m errG \u001B[38;5;241m=\u001B[39m criterion(outD_fake, real_labels)\n\u001B[1;32m---> 52\u001B[0m \u001B[43merrG\u001B[49m\u001B[38;5;241;43m.\u001B[39;49m\u001B[43mbackward\u001B[49m\u001B[43m(\u001B[49m\u001B[43m)\u001B[49m\n\u001B[0;32m     53\u001B[0m optG\u001B[38;5;241m.\u001B[39mstep()\n\u001B[0;32m     55\u001B[0m counter \u001B[38;5;241m+\u001B[39m\u001B[38;5;241m=\u001B[39m \u001B[38;5;241m1\u001B[39m\n",
      "File \u001B[1;32mC:\\dev\\quantum-project\\venv\\lib\\site-packages\\torch\\_tensor.py:492\u001B[0m, in \u001B[0;36mTensor.backward\u001B[1;34m(self, gradient, retain_graph, create_graph, inputs)\u001B[0m\n\u001B[0;32m    482\u001B[0m \u001B[38;5;28;01mif\u001B[39;00m has_torch_function_unary(\u001B[38;5;28mself\u001B[39m):\n\u001B[0;32m    483\u001B[0m     \u001B[38;5;28;01mreturn\u001B[39;00m handle_torch_function(\n\u001B[0;32m    484\u001B[0m         Tensor\u001B[38;5;241m.\u001B[39mbackward,\n\u001B[0;32m    485\u001B[0m         (\u001B[38;5;28mself\u001B[39m,),\n\u001B[1;32m   (...)\u001B[0m\n\u001B[0;32m    490\u001B[0m         inputs\u001B[38;5;241m=\u001B[39minputs,\n\u001B[0;32m    491\u001B[0m     )\n\u001B[1;32m--> 492\u001B[0m \u001B[43mtorch\u001B[49m\u001B[38;5;241;43m.\u001B[39;49m\u001B[43mautograd\u001B[49m\u001B[38;5;241;43m.\u001B[39;49m\u001B[43mbackward\u001B[49m\u001B[43m(\u001B[49m\n\u001B[0;32m    493\u001B[0m \u001B[43m    \u001B[49m\u001B[38;5;28;43mself\u001B[39;49m\u001B[43m,\u001B[49m\u001B[43m \u001B[49m\u001B[43mgradient\u001B[49m\u001B[43m,\u001B[49m\u001B[43m \u001B[49m\u001B[43mretain_graph\u001B[49m\u001B[43m,\u001B[49m\u001B[43m \u001B[49m\u001B[43mcreate_graph\u001B[49m\u001B[43m,\u001B[49m\u001B[43m \u001B[49m\u001B[43minputs\u001B[49m\u001B[38;5;241;43m=\u001B[39;49m\u001B[43minputs\u001B[49m\n\u001B[0;32m    494\u001B[0m \u001B[43m\u001B[49m\u001B[43m)\u001B[49m\n",
      "File \u001B[1;32mC:\\dev\\quantum-project\\venv\\lib\\site-packages\\torch\\autograd\\__init__.py:251\u001B[0m, in \u001B[0;36mbackward\u001B[1;34m(tensors, grad_tensors, retain_graph, create_graph, grad_variables, inputs)\u001B[0m\n\u001B[0;32m    246\u001B[0m     retain_graph \u001B[38;5;241m=\u001B[39m create_graph\n\u001B[0;32m    248\u001B[0m \u001B[38;5;66;03m# The reason we repeat the same comment below is that\u001B[39;00m\n\u001B[0;32m    249\u001B[0m \u001B[38;5;66;03m# some Python versions print out the first line of a multi-line function\u001B[39;00m\n\u001B[0;32m    250\u001B[0m \u001B[38;5;66;03m# calls in the traceback and some print out the last line\u001B[39;00m\n\u001B[1;32m--> 251\u001B[0m \u001B[43mVariable\u001B[49m\u001B[38;5;241;43m.\u001B[39;49m\u001B[43m_execution_engine\u001B[49m\u001B[38;5;241;43m.\u001B[39;49m\u001B[43mrun_backward\u001B[49m\u001B[43m(\u001B[49m\u001B[43m  \u001B[49m\u001B[38;5;66;43;03m# Calls into the C++ engine to run the backward pass\u001B[39;49;00m\n\u001B[0;32m    252\u001B[0m \u001B[43m    \u001B[49m\u001B[43mtensors\u001B[49m\u001B[43m,\u001B[49m\n\u001B[0;32m    253\u001B[0m \u001B[43m    \u001B[49m\u001B[43mgrad_tensors_\u001B[49m\u001B[43m,\u001B[49m\n\u001B[0;32m    254\u001B[0m \u001B[43m    \u001B[49m\u001B[43mretain_graph\u001B[49m\u001B[43m,\u001B[49m\n\u001B[0;32m    255\u001B[0m \u001B[43m    \u001B[49m\u001B[43mcreate_graph\u001B[49m\u001B[43m,\u001B[49m\n\u001B[0;32m    256\u001B[0m \u001B[43m    \u001B[49m\u001B[43minputs\u001B[49m\u001B[43m,\u001B[49m\n\u001B[0;32m    257\u001B[0m \u001B[43m    \u001B[49m\u001B[43mallow_unreachable\u001B[49m\u001B[38;5;241;43m=\u001B[39;49m\u001B[38;5;28;43;01mTrue\u001B[39;49;00m\u001B[43m,\u001B[49m\n\u001B[0;32m    258\u001B[0m \u001B[43m    \u001B[49m\u001B[43maccumulate_grad\u001B[49m\u001B[38;5;241;43m=\u001B[39;49m\u001B[38;5;28;43;01mTrue\u001B[39;49;00m\u001B[43m,\u001B[49m\n\u001B[0;32m    259\u001B[0m \u001B[43m\u001B[49m\u001B[43m)\u001B[49m\n",
      "File \u001B[1;32mC:\\dev\\quantum-project\\venv\\lib\\site-packages\\torch\\autograd\\function.py:288\u001B[0m, in \u001B[0;36mBackwardCFunction.apply\u001B[1;34m(self, *args)\u001B[0m\n\u001B[0;32m    282\u001B[0m     \u001B[38;5;28;01mraise\u001B[39;00m \u001B[38;5;167;01mRuntimeError\u001B[39;00m(\n\u001B[0;32m    283\u001B[0m         \u001B[38;5;124m\"\u001B[39m\u001B[38;5;124mImplementing both \u001B[39m\u001B[38;5;124m'\u001B[39m\u001B[38;5;124mbackward\u001B[39m\u001B[38;5;124m'\u001B[39m\u001B[38;5;124m and \u001B[39m\u001B[38;5;124m'\u001B[39m\u001B[38;5;124mvjp\u001B[39m\u001B[38;5;124m'\u001B[39m\u001B[38;5;124m for a custom \u001B[39m\u001B[38;5;124m\"\u001B[39m\n\u001B[0;32m    284\u001B[0m         \u001B[38;5;124m\"\u001B[39m\u001B[38;5;124mFunction is not allowed. You should only implement one \u001B[39m\u001B[38;5;124m\"\u001B[39m\n\u001B[0;32m    285\u001B[0m         \u001B[38;5;124m\"\u001B[39m\u001B[38;5;124mof them.\u001B[39m\u001B[38;5;124m\"\u001B[39m\n\u001B[0;32m    286\u001B[0m     )\n\u001B[0;32m    287\u001B[0m user_fn \u001B[38;5;241m=\u001B[39m vjp_fn \u001B[38;5;28;01mif\u001B[39;00m vjp_fn \u001B[38;5;129;01mis\u001B[39;00m \u001B[38;5;129;01mnot\u001B[39;00m Function\u001B[38;5;241m.\u001B[39mvjp \u001B[38;5;28;01melse\u001B[39;00m backward_fn\n\u001B[1;32m--> 288\u001B[0m \u001B[38;5;28;01mreturn\u001B[39;00m \u001B[43muser_fn\u001B[49m\u001B[43m(\u001B[49m\u001B[38;5;28;43mself\u001B[39;49m\u001B[43m,\u001B[49m\u001B[43m \u001B[49m\u001B[38;5;241;43m*\u001B[39;49m\u001B[43margs\u001B[49m\u001B[43m)\u001B[49m\n",
      "File \u001B[1;32mC:\\dev\\quantum-project\\venv\\lib\\site-packages\\pennylane\\interfaces\\torch.py:57\u001B[0m, in \u001B[0;36mpytreeify.<locals>.new_backward\u001B[1;34m(ctx, *flat_grad_outputs)\u001B[0m\n\u001B[0;32m     55\u001B[0m \u001B[38;5;28;01mdef\u001B[39;00m \u001B[38;5;21mnew_backward\u001B[39m(ctx, \u001B[38;5;241m*\u001B[39mflat_grad_outputs):\n\u001B[0;32m     56\u001B[0m     grad_outputs \u001B[38;5;241m=\u001B[39m pytree\u001B[38;5;241m.\u001B[39mtree_unflatten(flat_grad_outputs, ctx\u001B[38;5;241m.\u001B[39m_out_struct)\n\u001B[1;32m---> 57\u001B[0m     grad_inputs \u001B[38;5;241m=\u001B[39m \u001B[43morig_bw\u001B[49m\u001B[43m(\u001B[49m\u001B[43mctx\u001B[49m\u001B[43m,\u001B[49m\u001B[43m \u001B[49m\u001B[38;5;241;43m*\u001B[39;49m\u001B[43mgrad_outputs\u001B[49m\u001B[43m)\u001B[49m\n\u001B[0;32m     58\u001B[0m     \u001B[38;5;66;03m# None corresponds to the diff of out_struct_holder\u001B[39;00m\n\u001B[0;32m     59\u001B[0m     \u001B[38;5;28;01mreturn\u001B[39;00m (\u001B[38;5;28;01mNone\u001B[39;00m,) \u001B[38;5;241m+\u001B[39m \u001B[38;5;28mtuple\u001B[39m(grad_inputs)\n",
      "File \u001B[1;32mC:\\dev\\quantum-project\\venv\\lib\\site-packages\\pennylane\\interfaces\\torch.py:229\u001B[0m, in \u001B[0;36mExecuteTapes.backward\u001B[1;34m(ctx, *dy)\u001B[0m\n\u001B[0;32m    218\u001B[0m     \u001B[38;5;28;01melse\u001B[39;00m:\n\u001B[0;32m    219\u001B[0m         \u001B[38;5;66;03m# The derivative order is at the maximum. Compute the VJP\u001B[39;00m\n\u001B[0;32m    220\u001B[0m         \u001B[38;5;66;03m# in a non-differentiable manner to reduce overhead.\u001B[39;00m\n\u001B[0;32m    221\u001B[0m         vjp_tapes, processing_fn \u001B[38;5;241m=\u001B[39m qml\u001B[38;5;241m.\u001B[39mgradients\u001B[38;5;241m.\u001B[39mbatch_vjp(\n\u001B[0;32m    222\u001B[0m             ctx\u001B[38;5;241m.\u001B[39mtapes,\n\u001B[0;32m    223\u001B[0m             dy,\n\u001B[1;32m   (...)\u001B[0m\n\u001B[0;32m    226\u001B[0m             gradient_kwargs\u001B[38;5;241m=\u001B[39mctx\u001B[38;5;241m.\u001B[39mgradient_kwargs,\n\u001B[0;32m    227\u001B[0m         )\n\u001B[1;32m--> 229\u001B[0m         vjps \u001B[38;5;241m=\u001B[39m processing_fn(\u001B[43mctx\u001B[49m\u001B[38;5;241;43m.\u001B[39;49m\u001B[43mexecute_fn\u001B[49m\u001B[43m(\u001B[49m\u001B[43mvjp_tapes\u001B[49m\u001B[43m)\u001B[49m[\u001B[38;5;241m0\u001B[39m])\n\u001B[0;32m    231\u001B[0m \u001B[38;5;28;01melse\u001B[39;00m:\n\u001B[0;32m    232\u001B[0m     \u001B[38;5;66;03m# Gradient function is not a gradient transform\u001B[39;00m\n\u001B[0;32m    233\u001B[0m     \u001B[38;5;66;03m# (e.g., it might be a device method).\u001B[39;00m\n\u001B[1;32m   (...)\u001B[0m\n\u001B[0;32m    238\u001B[0m     \u001B[38;5;66;03m#\u001B[39;00m\n\u001B[0;32m    239\u001B[0m     \u001B[38;5;66;03m# so we cannot support higher-order derivatives.\u001B[39;00m\n\u001B[0;32m    241\u001B[0m     jacs \u001B[38;5;241m=\u001B[39m ctx\u001B[38;5;241m.\u001B[39mgradient_fn(ctx\u001B[38;5;241m.\u001B[39mtapes, \u001B[38;5;241m*\u001B[39m\u001B[38;5;241m*\u001B[39mctx\u001B[38;5;241m.\u001B[39mgradient_kwargs)\n",
      "File \u001B[1;32mC:\\dev\\quantum-project\\venv\\lib\\site-packages\\pennylane\\interfaces\\execution.py:588\u001B[0m, in \u001B[0;36mexecute.<locals>.inner_execute_with_empty_jac\u001B[1;34m(tapes, **_)\u001B[0m\n\u001B[0;32m    587\u001B[0m \u001B[38;5;28;01mdef\u001B[39;00m \u001B[38;5;21minner_execute_with_empty_jac\u001B[39m(tapes, \u001B[38;5;241m*\u001B[39m\u001B[38;5;241m*\u001B[39m_):\n\u001B[1;32m--> 588\u001B[0m     \u001B[38;5;28;01mreturn\u001B[39;00m (\u001B[43minner_execute\u001B[49m\u001B[43m(\u001B[49m\u001B[43mtapes\u001B[49m\u001B[43m)\u001B[49m, [])\n",
      "File \u001B[1;32mC:\\dev\\quantum-project\\venv\\lib\\site-packages\\pennylane\\interfaces\\execution.py:249\u001B[0m, in \u001B[0;36m_make_inner_execute.<locals>.inner_execute\u001B[1;34m(tapes, **_)\u001B[0m\n\u001B[0;32m    247\u001B[0m \u001B[38;5;28;01mif\u001B[39;00m numpy_only:\n\u001B[0;32m    248\u001B[0m     tapes \u001B[38;5;241m=\u001B[39m \u001B[38;5;28mtuple\u001B[39m(qml\u001B[38;5;241m.\u001B[39mtransforms\u001B[38;5;241m.\u001B[39mconvert_to_numpy_parameters(t) \u001B[38;5;28;01mfor\u001B[39;00m t \u001B[38;5;129;01min\u001B[39;00m tapes)\n\u001B[1;32m--> 249\u001B[0m \u001B[38;5;28;01mreturn\u001B[39;00m \u001B[43mcached_device_execution\u001B[49m\u001B[43m(\u001B[49m\u001B[43mtapes\u001B[49m\u001B[43m)\u001B[49m\n",
      "File \u001B[1;32mC:\\dev\\quantum-project\\venv\\lib\\site-packages\\pennylane\\interfaces\\execution.py:371\u001B[0m, in \u001B[0;36mcache_execute.<locals>.wrapper\u001B[1;34m(tapes, **kwargs)\u001B[0m\n\u001B[0;32m    366\u001B[0m         \u001B[38;5;28;01mreturn\u001B[39;00m (res, []) \u001B[38;5;28;01mif\u001B[39;00m return_tuple \u001B[38;5;28;01melse\u001B[39;00m res\n\u001B[0;32m    368\u001B[0m \u001B[38;5;28;01melse\u001B[39;00m:\n\u001B[0;32m    369\u001B[0m     \u001B[38;5;66;03m# execute all unique tapes that do not exist in the cache\u001B[39;00m\n\u001B[0;32m    370\u001B[0m     \u001B[38;5;66;03m# convert to list as new device interface returns a tuple\u001B[39;00m\n\u001B[1;32m--> 371\u001B[0m     res \u001B[38;5;241m=\u001B[39m \u001B[38;5;28mlist\u001B[39m(\u001B[43mfn\u001B[49m\u001B[43m(\u001B[49m\u001B[38;5;28;43mtuple\u001B[39;49m\u001B[43m(\u001B[49m\u001B[43mexecution_tapes\u001B[49m\u001B[38;5;241;43m.\u001B[39;49m\u001B[43mvalues\u001B[49m\u001B[43m(\u001B[49m\u001B[43m)\u001B[49m\u001B[43m)\u001B[49m\u001B[43m,\u001B[49m\u001B[43m \u001B[49m\u001B[38;5;241;43m*\u001B[39;49m\u001B[38;5;241;43m*\u001B[39;49m\u001B[43mkwargs\u001B[49m\u001B[43m)\u001B[49m)\n\u001B[0;32m    373\u001B[0m final_res \u001B[38;5;241m=\u001B[39m []\n\u001B[0;32m    375\u001B[0m \u001B[38;5;28;01mfor\u001B[39;00m i, tape \u001B[38;5;129;01min\u001B[39;00m \u001B[38;5;28menumerate\u001B[39m(tapes):\n",
      "File \u001B[1;32mC:\\Python38\\lib\\contextlib.py:75\u001B[0m, in \u001B[0;36mContextDecorator.__call__.<locals>.inner\u001B[1;34m(*args, **kwds)\u001B[0m\n\u001B[0;32m     72\u001B[0m \u001B[38;5;129m@wraps\u001B[39m(func)\n\u001B[0;32m     73\u001B[0m \u001B[38;5;28;01mdef\u001B[39;00m \u001B[38;5;21minner\u001B[39m(\u001B[38;5;241m*\u001B[39margs, \u001B[38;5;241m*\u001B[39m\u001B[38;5;241m*\u001B[39mkwds):\n\u001B[0;32m     74\u001B[0m     \u001B[38;5;28;01mwith\u001B[39;00m \u001B[38;5;28mself\u001B[39m\u001B[38;5;241m.\u001B[39m_recreate_cm():\n\u001B[1;32m---> 75\u001B[0m         \u001B[38;5;28;01mreturn\u001B[39;00m \u001B[43mfunc\u001B[49m\u001B[43m(\u001B[49m\u001B[38;5;241;43m*\u001B[39;49m\u001B[43margs\u001B[49m\u001B[43m,\u001B[49m\u001B[43m \u001B[49m\u001B[38;5;241;43m*\u001B[39;49m\u001B[38;5;241;43m*\u001B[39;49m\u001B[43mkwds\u001B[49m\u001B[43m)\u001B[49m\n",
      "File \u001B[1;32mC:\\dev\\quantum-project\\venv\\lib\\site-packages\\pennylane_qiskit\\ibmq.py:91\u001B[0m, in \u001B[0;36mIBMQDevice.batch_execute\u001B[1;34m(self, circuits)\u001B[0m\n\u001B[0;32m     90\u001B[0m \u001B[38;5;28;01mdef\u001B[39;00m \u001B[38;5;21mbatch_execute\u001B[39m(\u001B[38;5;28mself\u001B[39m, circuits):  \u001B[38;5;66;03m# pragma: no cover, pylint:disable=arguments-differ\u001B[39;00m\n\u001B[1;32m---> 91\u001B[0m     res \u001B[38;5;241m=\u001B[39m \u001B[38;5;28;43msuper\u001B[39;49m\u001B[43m(\u001B[49m\u001B[43m)\u001B[49m\u001B[38;5;241;43m.\u001B[39;49m\u001B[43mbatch_execute\u001B[49m\u001B[43m(\u001B[49m\u001B[43mcircuits\u001B[49m\u001B[43m,\u001B[49m\u001B[43m \u001B[49m\u001B[43mtimeout\u001B[49m\u001B[38;5;241;43m=\u001B[39;49m\u001B[38;5;28;43mself\u001B[39;49m\u001B[38;5;241;43m.\u001B[39;49m\u001B[43mtimeout_secs\u001B[49m\u001B[43m)\u001B[49m\n\u001B[0;32m     92\u001B[0m     \u001B[38;5;28;01mif\u001B[39;00m \u001B[38;5;28mself\u001B[39m\u001B[38;5;241m.\u001B[39mtracker\u001B[38;5;241m.\u001B[39mactive:\n\u001B[0;32m     93\u001B[0m         \u001B[38;5;28mself\u001B[39m\u001B[38;5;241m.\u001B[39m_track_run()\n",
      "File \u001B[1;32mC:\\dev\\quantum-project\\venv\\lib\\site-packages\\pennylane_qiskit\\qiskit_device.py:501\u001B[0m, in \u001B[0;36mQiskitDevice.batch_execute\u001B[1;34m(self, circuits, timeout)\u001B[0m\n\u001B[0;32m    498\u001B[0m \u001B[38;5;28mself\u001B[39m\u001B[38;5;241m.\u001B[39m_current_job \u001B[38;5;241m=\u001B[39m \u001B[38;5;28mself\u001B[39m\u001B[38;5;241m.\u001B[39mbackend\u001B[38;5;241m.\u001B[39mrun(compiled_circuits, shots\u001B[38;5;241m=\u001B[39m\u001B[38;5;28mself\u001B[39m\u001B[38;5;241m.\u001B[39mshots, \u001B[38;5;241m*\u001B[39m\u001B[38;5;241m*\u001B[39m\u001B[38;5;28mself\u001B[39m\u001B[38;5;241m.\u001B[39mrun_args)\n\u001B[0;32m    500\u001B[0m \u001B[38;5;28;01mtry\u001B[39;00m:\n\u001B[1;32m--> 501\u001B[0m     result \u001B[38;5;241m=\u001B[39m \u001B[38;5;28;43mself\u001B[39;49m\u001B[38;5;241;43m.\u001B[39;49m\u001B[43m_current_job\u001B[49m\u001B[38;5;241;43m.\u001B[39;49m\u001B[43mresult\u001B[49m\u001B[43m(\u001B[49m\u001B[43mtimeout\u001B[49m\u001B[38;5;241;43m=\u001B[39;49m\u001B[43mtimeout\u001B[49m\u001B[43m)\u001B[49m\n\u001B[0;32m    502\u001B[0m \u001B[38;5;28;01mexcept\u001B[39;00m \u001B[38;5;167;01mTypeError\u001B[39;00m:  \u001B[38;5;66;03m# pragma: no cover\u001B[39;00m\n\u001B[0;32m    503\u001B[0m     \u001B[38;5;66;03m# timeout not supported\u001B[39;00m\n\u001B[0;32m    504\u001B[0m     result \u001B[38;5;241m=\u001B[39m \u001B[38;5;28mself\u001B[39m\u001B[38;5;241m.\u001B[39m_current_job\u001B[38;5;241m.\u001B[39mresult()\n",
      "File \u001B[1;32mC:\\dev\\quantum-project\\venv\\lib\\site-packages\\qiskit_ibm_provider\\job\\ibm_circuit_job.py:248\u001B[0m, in \u001B[0;36mIBMCircuitJob.result\u001B[1;34m(self, timeout, refresh)\u001B[0m\n\u001B[0;32m    246\u001B[0m \u001B[38;5;66;03m# pylint: disable=arguments-differ\u001B[39;00m\n\u001B[0;32m    247\u001B[0m \u001B[38;5;28;01mif\u001B[39;00m \u001B[38;5;28mself\u001B[39m\u001B[38;5;241m.\u001B[39m_result \u001B[38;5;129;01mis\u001B[39;00m \u001B[38;5;28;01mNone\u001B[39;00m \u001B[38;5;129;01mor\u001B[39;00m refresh:\n\u001B[1;32m--> 248\u001B[0m     \u001B[38;5;28;43mself\u001B[39;49m\u001B[38;5;241;43m.\u001B[39;49m\u001B[43mwait_for_final_state\u001B[49m\u001B[43m(\u001B[49m\u001B[43mtimeout\u001B[49m\u001B[38;5;241;43m=\u001B[39;49m\u001B[43mtimeout\u001B[49m\u001B[43m)\u001B[49m\n\u001B[0;32m    249\u001B[0m     \u001B[38;5;28;01mif\u001B[39;00m \u001B[38;5;28mself\u001B[39m\u001B[38;5;241m.\u001B[39m_status \u001B[38;5;129;01mis\u001B[39;00m JobStatus\u001B[38;5;241m.\u001B[39mCANCELLED:\n\u001B[0;32m    250\u001B[0m         \u001B[38;5;28;01mraise\u001B[39;00m IBMJobInvalidStateError(\n\u001B[0;32m    251\u001B[0m             \u001B[38;5;124m\"\u001B[39m\u001B[38;5;124mUnable to retrieve result for job \u001B[39m\u001B[38;5;132;01m{}\u001B[39;00m\u001B[38;5;124m. \u001B[39m\u001B[38;5;124m\"\u001B[39m\n\u001B[0;32m    252\u001B[0m             \u001B[38;5;124m\"\u001B[39m\u001B[38;5;124mJob was cancelled.\u001B[39m\u001B[38;5;124m\"\u001B[39m\u001B[38;5;241m.\u001B[39mformat(\u001B[38;5;28mself\u001B[39m\u001B[38;5;241m.\u001B[39mjob_id())\n\u001B[0;32m    253\u001B[0m         )\n",
      "File \u001B[1;32mC:\\dev\\quantum-project\\venv\\lib\\site-packages\\qiskit_ibm_provider\\job\\ibm_circuit_job.py:669\u001B[0m, in \u001B[0;36mIBMCircuitJob.wait_for_final_state\u001B[1;34m(self, timeout, wait)\u001B[0m\n\u001B[0;32m    665\u001B[0m         \u001B[38;5;28;01mif\u001B[39;00m timeout \u001B[38;5;129;01mis\u001B[39;00m \u001B[38;5;129;01mnot\u001B[39;00m \u001B[38;5;28;01mNone\u001B[39;00m \u001B[38;5;129;01mand\u001B[39;00m elapsed_time \u001B[38;5;241m>\u001B[39m\u001B[38;5;241m=\u001B[39m timeout:\n\u001B[0;32m    666\u001B[0m             \u001B[38;5;28;01mraise\u001B[39;00m IBMJobTimeoutError(\n\u001B[0;32m    667\u001B[0m                 \u001B[38;5;124mf\u001B[39m\u001B[38;5;124m\"\u001B[39m\u001B[38;5;124mTimed out waiting for job to complete after \u001B[39m\u001B[38;5;132;01m{\u001B[39;00mtimeout\u001B[38;5;132;01m}\u001B[39;00m\u001B[38;5;124m secs.\u001B[39m\u001B[38;5;124m\"\u001B[39m\n\u001B[0;32m    668\u001B[0m             )\n\u001B[1;32m--> 669\u001B[0m         \u001B[43mtime\u001B[49m\u001B[38;5;241;43m.\u001B[39;49m\u001B[43msleep\u001B[49m\u001B[43m(\u001B[49m\u001B[43mwait\u001B[49m\u001B[43m)\u001B[49m\n\u001B[0;32m    670\u001B[0m         status \u001B[38;5;241m=\u001B[39m \u001B[38;5;28mself\u001B[39m\u001B[38;5;241m.\u001B[39mstatus()\n\u001B[0;32m    671\u001B[0m \u001B[38;5;28;01mexcept\u001B[39;00m futures\u001B[38;5;241m.\u001B[39mTimeoutError:\n",
      "\u001B[1;31mKeyboardInterrupt\u001B[0m: "
     ]
    }
   ],
   "source": [
    "discriminator = Discriminator().to(device)\n",
    "generator = PatchQuantumGenerator(n_generators).to(device)\n",
    "\n",
    "# Binary cross entropy\n",
    "criterion = nn.BCELoss()\n",
    "\n",
    "# Optimisers\n",
    "optD = optim.SGD(discriminator.parameters(), lr=lrD)\n",
    "optG = optim.SGD(generator.parameters(), lr=lrG)\n",
    "\n",
    "real_labels = torch.full((batch_size,), 1.0, dtype=torch.float, device=device)\n",
    "fake_labels = torch.full((batch_size,), 0.0, dtype=torch.float, device=device)\n",
    "\n",
    "# Fixed noise allows us to visually track the generated images throughout training\n",
    "fixed_noise = torch.rand(8, n_qubits, device=device) * math.pi / 2\n",
    "\n",
    "# Iteration counter\n",
    "counter = 0\n",
    "\n",
    "# Collect images for plotting later\n",
    "results = []\n",
    "\n",
    "while True:\n",
    "    for i, (data, _) in enumerate(dataloader):\n",
    "\n",
    "        # Data for training the discriminator\n",
    "        data = data.reshape(-1, image_size * image_size)\n",
    "        real_data = data.to(device)\n",
    "\n",
    "        # Noise follwing a uniform distribution in range [0,pi/2)\n",
    "        noise = torch.rand(batch_size, n_qubits, device=device) * math.pi / 2\n",
    "        fake_data = generator(noise)\n",
    "\n",
    "        # Training the discriminator\n",
    "        discriminator.zero_grad()\n",
    "        outD_real = discriminator(real_data).view(-1)\n",
    "        outD_fake = discriminator(fake_data.detach()).view(-1)\n",
    "\n",
    "        errD_real = criterion(outD_real, real_labels)\n",
    "        errD_fake = criterion(outD_fake, fake_labels)\n",
    "        # Propagate gradients\n",
    "        errD_real.backward()\n",
    "        errD_fake.backward()\n",
    "\n",
    "        errD = errD_real + errD_fake\n",
    "        optD.step()\n",
    "\n",
    "        # Training the generator\n",
    "        generator.zero_grad()\n",
    "        outD_fake = discriminator(fake_data).view(-1)\n",
    "        errG = criterion(outD_fake, real_labels)\n",
    "        errG.backward()\n",
    "        optG.step()\n",
    "\n",
    "        counter += 1\n",
    "\n",
    "        # Show loss values\n",
    "        if counter % 10 == 0:\n",
    "            print(f'Iteration: {counter}, Discriminator Loss: {errD:0.3f}, Generator Loss: {errG:0.3f}')\n",
    "            test_images = generator(fixed_noise).view(8,1,image_size,image_size).cpu().detach()\n",
    "\n",
    "            # Save images every 50 iterations\n",
    "            if counter % 50 == 0:\n",
    "                results.append(test_images)\n",
    "\n",
    "        if counter == num_iter:\n",
    "            break\n",
    "    if counter == num_iter:\n",
    "        break"
   ],
   "metadata": {
    "collapsed": false,
    "ExecuteTime": {
     "end_time": "2024-01-01T20:27:44.734780Z",
     "start_time": "2024-01-01T20:16:42.768532600Z"
    }
   },
   "id": "a329089f9ab0dc01"
  },
  {
   "cell_type": "code",
   "execution_count": 12,
   "outputs": [
    {
     "data": {
      "text/plain": "<Figure size 1000x500 with 0 Axes>"
     },
     "metadata": {},
     "output_type": "display_data"
    }
   ],
   "source": [
    "fig = plt.figure(figsize=(10, 5))\n",
    "outer = gridspec.GridSpec(5, 2, wspace=0.1)\n",
    "\n",
    "for i, images in enumerate(results):\n",
    "    inner = gridspec.GridSpecFromSubplotSpec(1, images.size(0),\n",
    "                    subplot_spec=outer[i])\n",
    "\n",
    "    images = torch.squeeze(images, dim=1)\n",
    "    for j, im in enumerate(images):\n",
    "\n",
    "        ax = plt.Subplot(fig, inner[j])\n",
    "        ax.imshow(im.numpy(), cmap=\"gray\")\n",
    "        ax.set_xticks([])\n",
    "        ax.set_yticks([])\n",
    "        if j==0:\n",
    "            ax.set_title(f'Iteration {50+i*50}', loc='left')\n",
    "        fig.add_subplot(ax)\n",
    "\n",
    "plt.show()"
   ],
   "metadata": {
    "collapsed": false,
    "ExecuteTime": {
     "end_time": "2024-01-01T20:27:50.256749500Z",
     "start_time": "2024-01-01T20:27:50.194207200Z"
    }
   },
   "id": "7a9cdf79510ef576"
  }
 ],
 "metadata": {
  "kernelspec": {
   "display_name": "Python 3",
   "language": "python",
   "name": "python3"
  },
  "language_info": {
   "codemirror_mode": {
    "name": "ipython",
    "version": 2
   },
   "file_extension": ".py",
   "mimetype": "text/x-python",
   "name": "python",
   "nbconvert_exporter": "python",
   "pygments_lexer": "ipython2",
   "version": "2.7.6"
  }
 },
 "nbformat": 4,
 "nbformat_minor": 5
}
