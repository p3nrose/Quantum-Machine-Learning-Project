{
 "cells": [
  {
   "cell_type": "code",
   "execution_count": 2,
   "id": "initial_id",
   "metadata": {
    "collapsed": true,
    "ExecuteTime": {
     "end_time": "2024-01-01T17:09:25.817268Z",
     "start_time": "2024-01-01T17:09:22.298681600Z"
    }
   },
   "outputs": [
    {
     "name": "stdout",
     "output_type": "stream",
     "text": [
      "0.556\n"
     ]
    }
   ],
   "source": [
    "import pennylane as qml\n",
    "from pennylane_ionq import ops\n",
    "\n",
    "dev = qml.device(\"ionq.simulator\", wires=2)\n",
    "\n",
    "@qml.qnode(dev)\n",
    "def circuit(x, y, z):\n",
    "    qml.RX(x, wires=0)\n",
    "    ops.YY(y, wires=[0, 1])\n",
    "    ops.ZZ(z, wires=[0, 1])\n",
    "    return qml.expval(qml.PauliZ(0))\n",
    "\n",
    "print(circuit(0, 1, 0))"
   ]
  },
  {
   "cell_type": "code",
   "execution_count": 1,
   "outputs": [
    {
     "name": "stdout",
     "output_type": "stream",
     "text": [
      "{'main': {'shots': 1000}, 'ionq': {'global': {'api_key': 'rABC1TEmHyHLY5btpwuRiFeKDgiQkIXH'}}}\n"
     ]
    }
   ],
   "source": [
    "import pennylane as qml\n",
    "print(qml.default_config)"
   ],
   "metadata": {
    "collapsed": false,
    "ExecuteTime": {
     "end_time": "2024-01-01T17:09:15.978585600Z",
     "start_time": "2024-01-01T17:09:14.571629200Z"
    }
   },
   "id": "114327955c31ac52"
  }
 ],
 "metadata": {
  "kernelspec": {
   "display_name": "Python 3",
   "language": "python",
   "name": "python3"
  },
  "language_info": {
   "codemirror_mode": {
    "name": "ipython",
    "version": 2
   },
   "file_extension": ".py",
   "mimetype": "text/x-python",
   "name": "python",
   "nbconvert_exporter": "python",
   "pygments_lexer": "ipython2",
   "version": "2.7.6"
  }
 },
 "nbformat": 4,
 "nbformat_minor": 5
}
